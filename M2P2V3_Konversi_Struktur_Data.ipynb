{
  "nbformat": 4,
  "nbformat_minor": 0,
  "metadata": {
    "colab": {
      "name": "M2P2V3_Konversi Struktur Data.ipynb",
      "provenance": [],
      "authorship_tag": "ABX9TyMDRf4gVv2i12OsfJDv3S1X",
      "include_colab_link": true
    },
    "kernelspec": {
      "name": "python3",
      "display_name": "Python 3"
    },
    "language_info": {
      "name": "python"
    }
  },
  "cells": [
    {
      "cell_type": "markdown",
      "metadata": {
        "id": "view-in-github",
        "colab_type": "text"
      },
      "source": [
        "<a href=\"https://colab.research.google.com/github/maullindaaa/-M2P2V3_Konversi-Struktur-Data/blob/main/M2P2V3_Konversi_Struktur_Data.ipynb\" target=\"_parent\"><img src=\"https://colab.research.google.com/assets/colab-badge.svg\" alt=\"Open In Colab\"/></a>"
      ]
    },
    {
      "cell_type": "markdown",
      "metadata": {
        "id": "QBQoyRZHWDXK"
      },
      "source": [
        "**Konversi Struktur Data**\n",
        "Fungsi untuk mengubah/konversi struktur data:\n",
        "\n",
        "a. `list()` : untuk mengubah menjadi list\n",
        "\n",
        "b. `tuple()`: untuk mengubah menjadi tuple\n",
        "\n",
        "c.` set() `: untuk mengubah menjadi set\n",
        "\n",
        "d. `dict()` : untuk mengubah menjadi dictionary"
      ]
    },
    {
      "cell_type": "markdown",
      "metadata": {
        "id": "VP6rrHFPW6I-"
      },
      "source": [
        "Mengkonversi tipe data list:"
      ]
    },
    {
      "cell_type": "code",
      "metadata": {
        "id": "o8MtlfseVjcH"
      },
      "source": [
        "#Membuat 2 list\n",
        "L1 = [1,2,3,4]\n",
        "L2 = [5,6,7,8]"
      ],
      "execution_count": 1,
      "outputs": []
    },
    {
      "cell_type": "code",
      "metadata": {
        "colab": {
          "base_uri": "https://localhost:8080/"
        },
        "id": "9K0CsaFtXXZx",
        "outputId": "24f75a5a-6f87-48fd-89ae-217067989ab4"
      },
      "source": [
        "#Mengkonversi struktur data list\n",
        "k_tuple = tuple(L1)\n",
        "k_set = set(L1)\n",
        "k_dict = dict(zip(L1,L2))\n",
        "#Meliah data yang telah dikonversi\n",
        "print(k_tuple)\n",
        "print(k_set)\n",
        "print(k_dict)"
      ],
      "execution_count": 3,
      "outputs": [
        {
          "output_type": "stream",
          "name": "stdout",
          "text": [
            "(1, 2, 3, 4)\n",
            "{1, 2, 3, 4}\n",
            "{1: 5, 2: 6, 3: 7, 4: 8}\n"
          ]
        }
      ]
    },
    {
      "cell_type": "markdown",
      "metadata": {
        "id": "cis58MmNX3OK"
      },
      "source": [
        "Mengkonversi tipe data tuple:"
      ]
    },
    {
      "cell_type": "code",
      "metadata": {
        "id": "FyXVu4YpYG-r"
      },
      "source": [
        "#Membaut dua tuple\n",
        "T1=(1,2,3,4)\n",
        "T2=(5,6,7,8)"
      ],
      "execution_count": 5,
      "outputs": []
    },
    {
      "cell_type": "code",
      "metadata": {
        "colab": {
          "base_uri": "https://localhost:8080/"
        },
        "id": "FERcIXtbYQE1",
        "outputId": "2b153a2d-377a-453b-f3f5-12ed1b6ede4b"
      },
      "source": [
        "#Mengkonversi struktur data tuple\n",
        "k_list = list(T1)\n",
        "k_set = set(T1)\n",
        "k_dict = dict(zip(T1,T2))\n",
        "#Melihat data yang telah dikonversi\n",
        "print(k_list)\n",
        "print(k_set)\n",
        "print(k_dict)"
      ],
      "execution_count": 7,
      "outputs": [
        {
          "output_type": "stream",
          "name": "stdout",
          "text": [
            "[1, 2, 3, 4]\n",
            "{1, 2, 3, 4}\n",
            "{1: 5, 2: 6, 3: 7, 4: 8}\n"
          ]
        }
      ]
    },
    {
      "cell_type": "markdown",
      "metadata": {
        "id": "klMzaUwmY4Xj"
      },
      "source": [
        "Mengkonversi tipe data set:"
      ]
    },
    {
      "cell_type": "code",
      "metadata": {
        "id": "4HGZB9TZY7xw"
      },
      "source": [
        "#Membuat dua set\n",
        "S1 = {1,2,3,4}\n",
        "S2 = {5,6,7,8}"
      ],
      "execution_count": 9,
      "outputs": []
    },
    {
      "cell_type": "code",
      "metadata": {
        "colab": {
          "base_uri": "https://localhost:8080/"
        },
        "id": "dbxt-D-jZI-R",
        "outputId": "37b7a82c-f7f7-4417-de97-e69a50576dab"
      },
      "source": [
        "#Mengkonversi struktur data set\n",
        "k_list = list(S1)\n",
        "k_tuple = tuple(S1)\n",
        "k_dict = dict(zip(S1,S2))\n",
        "#Melihat data yang telah dikonversi\n",
        "print(k_list)\n",
        "print(k_tuple)\n",
        "print(k_dict)"
      ],
      "execution_count": 10,
      "outputs": [
        {
          "output_type": "stream",
          "name": "stdout",
          "text": [
            "[1, 2, 3, 4]\n",
            "(1, 2, 3, 4)\n",
            "{1: 8, 2: 5, 3: 6, 4: 7}\n"
          ]
        }
      ]
    },
    {
      "cell_type": "markdown",
      "metadata": {
        "id": "4tz5QRCvaNz-"
      },
      "source": [
        "Mengkonversi tipe data dictionary"
      ]
    },
    {
      "cell_type": "code",
      "metadata": {
        "id": "rm7T6E4JaWwy"
      },
      "source": [
        "#Membuat Dictionary\n",
        "D={\n",
        "    \"nama\": \"Andi\",\n",
        "   \"alamat\": \"Yogyakarta\",\n",
        "   \"Umur\": 20\n",
        "   }"
      ],
      "execution_count": 23,
      "outputs": []
    },
    {
      "cell_type": "code",
      "metadata": {
        "colab": {
          "base_uri": "https://localhost:8080/"
        },
        "id": "lPG-TtgdaozT",
        "outputId": "9ff9a5f9-0df7-44d2-b7a5-be35355b180e"
      },
      "source": [
        "#Mengkonversi struktur data dictionary dari key dan value-nya\n",
        "k_list = list(D.keys())\n",
        "k_tuple = tuple(D.values())\n",
        "k_set = set(D.keys())\n",
        "#Melihat data yang telah dikonversi\n",
        "print(k_list)\n",
        "print(k_tuple)\n",
        "print(k_set) "
      ],
      "execution_count": 25,
      "outputs": [
        {
          "output_type": "stream",
          "name": "stdout",
          "text": [
            "['nama', 'alamat', 'Umur']\n",
            "('Andi', 'Yogyakarta', 20)\n",
            "{'alamat', 'Umur', 'nama'}\n"
          ]
        }
      ]
    },
    {
      "cell_type": "markdown",
      "metadata": {
        "id": "YIV4eEO9cSAz"
      },
      "source": [
        "Latihan"
      ]
    },
    {
      "cell_type": "code",
      "metadata": {
        "colab": {
          "base_uri": "https://localhost:8080/"
        },
        "id": "KVoajhjfcVoK",
        "outputId": "33dbca74-ae39-40db-ef2a-aa275c1849cb"
      },
      "source": [
        "#Lakukan konversi struktur data yang kalian buat pada notebook-notebook sebelumnya menjadi list,tuple,set,dictionary(masing-masing satu)\n",
        "#Mengkonversi data tipe list\n",
        "A = [12,2,6]\n",
        "set(A)\n",
        "print(set(A))\n",
        "#Mengkonversi tipe data tuple\n",
        "Tuple1 = (\"HP\",False,4+1j,8)\n",
        "list(Tuple1)\n",
        "print(list(Tuple1))\n",
        "#Mengkonversi tipe data set\n",
        "SET = {8,4+1j,\"tilu\",False,9}\n",
        "tuple(SET)\n",
        "print(tuple(SET))\n",
        "#Mengkonversi tipe data dictionary\n",
        "Dict = {'Nama': 'Maulinda', 'Umur':'19'}\n",
        "tuple(D.values())\n",
        "print(tuple(D.values()))"
      ],
      "execution_count": 28,
      "outputs": [
        {
          "output_type": "stream",
          "name": "stdout",
          "text": [
            "{2, 12, 6}\n",
            "['HP', False, (4+1j), 8]\n",
            "(False, (4+1j), 8, 9, 'tilu')\n",
            "('Andi', 'Yogyakarta', 20)\n"
          ]
        }
      ]
    }
  ]
}